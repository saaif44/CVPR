{
 "cells": [
  {
   "cell_type": "code",
   "execution_count": 1,
   "metadata": {},
   "outputs": [],
   "source": [
    "import tensorflow as tf\n",
    "from tensorflow.keras import layers, models\n",
    "from tensorflow.keras.optimizers import Adam, SGD, RMSprop\n",
    "from tensorflow.keras.datasets import cifar10\n",
    "from tensorflow.keras.utils import to_categorical"
   ]
  },
  {
   "cell_type": "code",
   "execution_count": 2,
   "metadata": {},
   "outputs": [],
   "source": [
    "# Load and preprocess the CIFAR-10 dataset\n",
    "(train_images, train_labels), (test_images, test_labels) = cifar10.load_data()\n",
    "train_images = train_images.astype('float32') / 255\n",
    "test_images = test_images.astype('float32') / 255\n",
    "train_labels = to_categorical(train_labels)\n",
    "test_labels = to_categorical(test_labels)"
   ]
  },
  {
   "cell_type": "code",
   "execution_count": 5,
   "metadata": {},
   "outputs": [],
   "source": [
    "# Defining the CNN model\n",
    "def create_cnn_model(optimizer):\n",
    "    model = models.Sequential()\n",
    "    model.add(layers.Conv2D(32, (3, 3), activation='relu', input_shape=(32, 32, 3)))\n",
    "    model.add(layers.MaxPooling2D((2, 2)))\n",
    "    model.add(layers.Conv2D(64, (3, 3), activation='relu'))\n",
    "    model.add(layers.MaxPooling2D((2, 2)))\n",
    "    model.add(layers.Conv2D(64, (3, 3), activation='relu'))\n",
    "    model.add(layers.Flatten())\n",
    "    model.add(layers.Dense(64, activation='relu'))\n",
    "    model.add(layers.Dense(10, activation='softmax'))\n",
    "    # Compile the model with the specified optimizer\n",
    "    model.compile(optimizer=optimizer,\n",
    "                  loss='categorical_crossentropy',\n",
    "                  metrics=['accuracy'])\n",
    "    return model"
   ]
  },
  {
   "cell_type": "code",
   "execution_count": 6,
   "metadata": {},
   "outputs": [
    {
     "name": "stdout",
     "output_type": "stream",
     "text": [
      "\n",
      "Training with optimizer: Adam\n",
      "Epoch 1/10\n",
      "782/782 [==============================] - 32s 39ms/step - loss: 1.5824 - accuracy: 0.4224 - val_loss: 1.3653 - val_accuracy: 0.5041\n",
      "Epoch 2/10\n",
      "782/782 [==============================] - 26s 33ms/step - loss: 1.2469 - accuracy: 0.5603 - val_loss: 1.1909 - val_accuracy: 0.5720\n",
      "Epoch 3/10\n",
      "782/782 [==============================] - 29s 37ms/step - loss: 1.0969 - accuracy: 0.6131 - val_loss: 1.0841 - val_accuracy: 0.6151\n",
      "Epoch 4/10\n",
      "782/782 [==============================] - 25s 32ms/step - loss: 1.0063 - accuracy: 0.6455 - val_loss: 0.9963 - val_accuracy: 0.6545\n",
      "Epoch 5/10\n",
      "782/782 [==============================] - 26s 33ms/step - loss: 0.9265 - accuracy: 0.6762 - val_loss: 1.0116 - val_accuracy: 0.6471\n",
      "Epoch 6/10\n",
      "782/782 [==============================] - 25s 32ms/step - loss: 0.8731 - accuracy: 0.6941 - val_loss: 0.9214 - val_accuracy: 0.6798\n",
      "Epoch 7/10\n",
      "782/782 [==============================] - 25s 32ms/step - loss: 0.8218 - accuracy: 0.7110 - val_loss: 0.9198 - val_accuracy: 0.6763\n",
      "Epoch 8/10\n",
      "782/782 [==============================] - 25s 32ms/step - loss: 0.7789 - accuracy: 0.7276 - val_loss: 0.8627 - val_accuracy: 0.7032\n",
      "Epoch 9/10\n",
      "782/782 [==============================] - 24s 31ms/step - loss: 0.7363 - accuracy: 0.7431 - val_loss: 0.8828 - val_accuracy: 0.7013\n",
      "Epoch 10/10\n",
      "782/782 [==============================] - 25s 31ms/step - loss: 0.7064 - accuracy: 0.7527 - val_loss: 0.8696 - val_accuracy: 0.7066\n",
      "313/313 [==============================] - 2s 5ms/step - loss: 0.8696 - accuracy: 0.7066\n",
      "Test accuracy with Adam: 70.66%\n",
      "\n",
      "Training with optimizer: SGD\n",
      "Epoch 1/10\n",
      "782/782 [==============================] - 26s 32ms/step - loss: 2.1886 - accuracy: 0.1844 - val_loss: 1.9939 - val_accuracy: 0.2593\n",
      "Epoch 2/10\n",
      "782/782 [==============================] - 25s 32ms/step - loss: 1.9139 - accuracy: 0.3051 - val_loss: 1.7939 - val_accuracy: 0.3428\n",
      "Epoch 3/10\n",
      "782/782 [==============================] - 24s 31ms/step - loss: 1.7266 - accuracy: 0.3799 - val_loss: 1.6867 - val_accuracy: 0.3822\n",
      "Epoch 4/10\n",
      "782/782 [==============================] - 27s 34ms/step - loss: 1.6030 - accuracy: 0.4240 - val_loss: 1.5960 - val_accuracy: 0.4061\n",
      "Epoch 5/10\n",
      "782/782 [==============================] - 27s 35ms/step - loss: 1.5126 - accuracy: 0.4545 - val_loss: 1.5686 - val_accuracy: 0.4298\n",
      "Epoch 6/10\n",
      "782/782 [==============================] - 36s 46ms/step - loss: 1.4439 - accuracy: 0.4819 - val_loss: 1.4480 - val_accuracy: 0.4801\n",
      "Epoch 7/10\n",
      "782/782 [==============================] - 28s 36ms/step - loss: 1.3821 - accuracy: 0.5086 - val_loss: 1.4170 - val_accuracy: 0.4959\n",
      "Epoch 8/10\n",
      "782/782 [==============================] - 26s 33ms/step - loss: 1.3298 - accuracy: 0.5286 - val_loss: 1.4965 - val_accuracy: 0.4526\n",
      "Epoch 9/10\n",
      "782/782 [==============================] - 24s 31ms/step - loss: 1.2844 - accuracy: 0.5454 - val_loss: 1.4158 - val_accuracy: 0.4932\n",
      "Epoch 10/10\n",
      "782/782 [==============================] - 26s 34ms/step - loss: 1.2417 - accuracy: 0.5637 - val_loss: 1.4197 - val_accuracy: 0.5015\n",
      "313/313 [==============================] - 2s 6ms/step - loss: 1.4197 - accuracy: 0.5015\n",
      "Test accuracy with SGD: 50.15%\n",
      "\n",
      "Training with optimizer: RMSprop\n",
      "Epoch 1/10\n",
      "782/782 [==============================] - 26s 32ms/step - loss: 1.6367 - accuracy: 0.4074 - val_loss: 1.5020 - val_accuracy: 0.4517\n",
      "Epoch 2/10\n",
      "782/782 [==============================] - 25s 33ms/step - loss: 1.2363 - accuracy: 0.5624 - val_loss: 1.2223 - val_accuracy: 0.5655\n",
      "Epoch 3/10\n",
      "782/782 [==============================] - 25s 32ms/step - loss: 1.0565 - accuracy: 0.6301 - val_loss: 1.1431 - val_accuracy: 0.5983\n",
      "Epoch 4/10\n",
      "782/782 [==============================] - 27s 35ms/step - loss: 0.9414 - accuracy: 0.6717 - val_loss: 1.1215 - val_accuracy: 0.6179\n",
      "Epoch 5/10\n",
      "782/782 [==============================] - 25s 32ms/step - loss: 0.8544 - accuracy: 0.7021 - val_loss: 1.0210 - val_accuracy: 0.6538\n",
      "Epoch 6/10\n",
      "782/782 [==============================] - 27s 34ms/step - loss: 0.7816 - accuracy: 0.7282 - val_loss: 0.8864 - val_accuracy: 0.6985\n",
      "Epoch 7/10\n",
      "782/782 [==============================] - 28s 35ms/step - loss: 0.7228 - accuracy: 0.7470 - val_loss: 0.9146 - val_accuracy: 0.6808\n",
      "Epoch 8/10\n",
      "782/782 [==============================] - 29s 37ms/step - loss: 0.6676 - accuracy: 0.7675 - val_loss: 1.1672 - val_accuracy: 0.6303\n",
      "Epoch 9/10\n",
      "782/782 [==============================] - 34s 43ms/step - loss: 0.6215 - accuracy: 0.7825 - val_loss: 0.9854 - val_accuracy: 0.6742\n",
      "Epoch 10/10\n",
      "782/782 [==============================] - 25s 32ms/step - loss: 0.5744 - accuracy: 0.8004 - val_loss: 0.8904 - val_accuracy: 0.7120\n",
      "313/313 [==============================] - 2s 7ms/step - loss: 0.8904 - accuracy: 0.7120\n",
      "Test accuracy with RMSprop: 71.20%\n"
     ]
    }
   ],
   "source": [
    "# Train the model with different optimizers\n",
    "optimizers = [Adam(), SGD(), RMSprop()]\n",
    "for optimizer in optimizers:\n",
    "    model = create_cnn_model(optimizer)\n",
    "    print(f\"\\nTraining with optimizer: {optimizer.get_config()['name']}\")\n",
    "    history = model.fit(train_images, train_labels, epochs=10, batch_size=64, validation_data=(test_images, test_labels))\n",
    "\n",
    "    # Evaluate the model on the test set\n",
    "    test_loss, test_acc = model.evaluate(test_images, test_labels)\n",
    "    print(f'Test accuracy with {optimizer.get_config()[\"name\"]}: {test_acc * 100:.2f}%')\n"
   ]
  }
 ],
 "metadata": {
  "kernelspec": {
   "display_name": "Python 3",
   "language": "python",
   "name": "python3"
  },
  "language_info": {
   "codemirror_mode": {
    "name": "ipython",
    "version": 3
   },
   "file_extension": ".py",
   "mimetype": "text/x-python",
   "name": "python",
   "nbconvert_exporter": "python",
   "pygments_lexer": "ipython3",
   "version": "3.11.5"
  }
 },
 "nbformat": 4,
 "nbformat_minor": 2
}
